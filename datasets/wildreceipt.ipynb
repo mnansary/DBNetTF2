{
 "cells": [
  {
   "cell_type": "code",
   "execution_count": 3,
   "metadata": {},
   "outputs": [
    {
     "name": "stdout",
     "output_type": "stream",
     "text": [
      "Directory exist\n",
      "Directory exist\n",
      "Directory exist\n"
     ]
    }
   ],
   "source": [
    "import ast\n",
    "import os\n",
    "import shutil\n",
    "from tqdm.notebook import tqdm\n",
    "root_path = '/backup/RAW/DET/PROCESS_BASE/wildreceipt/'\n",
    "root_label_path = '/backup/RAW/DET/PROCESS_BASE/wildreceipt/train.txt' #@ params: train.txt, test.txt\n",
    "root_image_path = '/backup/RAW/DET/PROCESS_BASE/wildreceipt/image_files/'\n",
    "example_dirpath = \"/backup/RAW/DET/PROCESS_BASE//EXAMPLE/\"\n",
    "new_root_path = os.path.join(example_dirpath, \"wildreceipt\")\n",
    "if os.path.exists(new_root_path):\n",
    "    print(\"Directory exist\")\n",
    "else: \n",
    "    os.mkdir(new_root_path)\n",
    "    print(\"Directory created\")\n",
    "    \n",
    "gts_path = os.path.join(new_root_path, 'gts')\n",
    "if os.path.exists(gts_path):\n",
    "    print(\"Directory exist\")\n",
    "else: \n",
    "    os.mkdir(gts_path)\n",
    "    print(\"Directory created\")\n",
    "\n",
    "images_path = os.path.join(new_root_path, 'images')\n",
    "if os.path.exists(images_path):\n",
    "    print(\"Directory exist\")\n",
    "else: \n",
    "    os.mkdir(images_path)\n",
    "    print(\"Directory created\")\n"
   ]
  },
  {
   "cell_type": "code",
   "execution_count": 4,
   "metadata": {},
   "outputs": [
    {
     "data": {
      "application/vnd.jupyter.widget-view+json": {
       "model_id": "c52a84a8d6a04b4ea8dae18cded4b7e0",
       "version_major": 2,
       "version_minor": 0
      },
      "text/plain": [
       "  0%|          | 0/1267 [00:00<?, ?it/s]"
      ]
     },
     "metadata": {},
     "output_type": "display_data"
    }
   ],
   "source": [
    "\n",
    "\n",
    "with open(root_label_path) as file:\n",
    "    lines = file.readlines()\n",
    "    lines = [line.rstrip() for line in lines]\n",
    "\n",
    "\n",
    "\n",
    "for line in tqdm(lines):\n",
    "    _dict = ast.literal_eval(line)\n",
    "    #print(_dict.keys())\n",
    "    _img_file_name = _dict['file_name']\n",
    "    \n",
    "    annots = _dict['annotations']\n",
    "    box_text_list = []\n",
    "    for annot in annots:\n",
    "        box = annot['box']\n",
    "#         box = map(int, box)\n",
    "        box = [int(x) for x in box]\n",
    "        text = annot['text']\n",
    "#         print(box)\n",
    "#         print(text)\n",
    "        box_text_list.append(','.join(map(str, box)))\n",
    "        box_text_list.append(',')\n",
    "        box_text_list.append(text)\n",
    "        box_text_list.append('\\n')\n",
    "    \n",
    "    \n",
    "    img_file_name = _img_file_name.split('/')[-1]\n",
    "    images_path_file = os.path.join(root_path, _img_file_name)\n",
    "#     print(images_path_file)\n",
    "\n",
    "    img_file_check = os.path.join(images_path, img_file_name)\n",
    "#     print(img_file_check)\n",
    "\n",
    "    if not os.path.isfile(img_file_check):\n",
    "        shutil.copy2(images_path_file, images_path)\n",
    "        #print(\"Image file Copy!\")\n",
    "        \n",
    "    text_file = img_file_name+'.txt'\n",
    "    gts_text_file = os.path.join(gts_path, text_file)\n",
    "    \n",
    "    # Program to write to text file using write() function\n",
    "    if not os.path.isfile(gts_text_file):\n",
    "        with  open(gts_text_file, \"w\") as file:\n",
    "            makeitastring = ''.join(map(str, box_text_list))\n",
    "            file.write(makeitastring)\n",
    "            file.close()\n",
    "        #print(\"File Creates!\")\n",
    "    else:\n",
    "        print(\"File Exists!\")"
   ]
  },
  {
   "cell_type": "code",
   "execution_count": null,
   "metadata": {},
   "outputs": [],
   "source": []
  }
 ],
 "metadata": {
  "interpreter": {
   "hash": "83cb0fe33a0a67f9f877ffb776c4b7cce63e124f7ba47fe6878fb868bcc96314"
  },
  "kernelspec": {
   "display_name": "Python 3.8.5 64-bit ('bangla': conda)",
   "language": "python",
   "name": "python3"
  },
  "language_info": {
   "codemirror_mode": {
    "name": "ipython",
    "version": 3
   },
   "file_extension": ".py",
   "mimetype": "text/x-python",
   "name": "python",
   "nbconvert_exporter": "python",
   "pygments_lexer": "ipython3",
   "version": "3.8.5"
  },
  "orig_nbformat": 4
 },
 "nbformat": 4,
 "nbformat_minor": 2
}
