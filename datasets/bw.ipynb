{
 "cells": [
  {
   "cell_type": "code",
   "execution_count": null,
   "id": "60605c39",
   "metadata": {},
   "outputs": [],
   "source": [
    "import os\n",
    "from glob import glob\n",
    "import json\n",
    "from tqdm import tqdm\n",
    "def create_dir(base,ext):\n",
    "    '''\n",
    "        creates a directory extending base\n",
    "        args:\n",
    "            base    =   base path \n",
    "            ext     =   the folder to create\n",
    "    '''\n",
    "    _path=os.path.join(base,ext)\n",
    "    if not os.path.exists(_path):\n",
    "        os.mkdir(_path)\n",
    "    return _path\n",
    "\n",
    "bw_path=\"/backup/RAW/bangla_writing/raw/raw/\"\n",
    "save_path=\"/backup/RAW/DET/\"\n",
    "save_path=create_dir(save_path,\"bw\")\n",
    "img_dir=create_dir(save_path,\"images\")\n",
    "gt_dir=create_dir(save_path,\"gts\")\n",
    "\n",
    "img_paths=[img_path for img_path in tqdm(glob(os.path.join(bw_path,\"*.jpg\")))]\n"
   ]
  },
  {
   "cell_type": "code",
   "execution_count": null,
   "id": "78604fa9",
   "metadata": {},
   "outputs": [],
   "source": [
    "\n",
    "import numpy as np\n",
    "import shutil\n",
    "def save_data(img_path):\n",
    "    labels=[]\n",
    "    # json_path\n",
    "    json_path=img_path.replace(\"jpg\",\"json\")\n",
    "    # label\n",
    "    label_json = json.load(open(json_path,'r'))\n",
    "    box_text_list = []\n",
    "    # get word idx\n",
    "    for idx in range(len(label_json['shapes'])):\n",
    "        # label\n",
    "        label=str(label_json['shapes'][idx]['label'])\n",
    "        # crop bbox\n",
    "        xy=label_json['shapes'][idx]['points']\n",
    "        # crop points\n",
    "        x1 = int(np.round(xy[0][0]))\n",
    "        y1 = int(np.round(xy[0][1]))\n",
    "        x2 = int(np.round(xy[1][0]))\n",
    "        y2 = int(np.round(xy[1][1]))\n",
    "        box=[x1,y1,x2,y1,x2,y2,x1,y2]\n",
    "        if label==\"*\":\n",
    "            text = \"###\"\n",
    "        else:\n",
    "            text=label\n",
    "        \n",
    "        box_text_list.append(','.join(map(str, box)))\n",
    "        box_text_list.append(',')\n",
    "        box_text_list.append(text)\n",
    "        box_text_list.append('\\n')\n",
    "    \n",
    "    # \n",
    "    base_=os.path.basename(img_path).split(\".\")[0]\n",
    "    \n",
    "    img_dst=os.path.join(img_dir,f\"{base_}.jpg\")\n",
    "    shutil.copy(img_path,img_dst)\n",
    "    \n",
    "    gts_text_file=os.path.join(gt_dir,f\"{base_}.txt\")\n",
    "    with  open(gts_text_file, \"w\") as file:\n",
    "        makeitastring = ''.join(map(str, box_text_list))\n",
    "        file.write(makeitastring)\n",
    "        file.close()\n"
   ]
  },
  {
   "cell_type": "code",
   "execution_count": null,
   "id": "7c4c8abb",
   "metadata": {},
   "outputs": [],
   "source": [
    "for img_path in tqdm(img_paths):\n",
    "    save_data(img_path)"
   ]
  },
  {
   "cell_type": "code",
   "execution_count": null,
   "id": "bc3008c1",
   "metadata": {},
   "outputs": [],
   "source": []
  }
 ],
 "metadata": {
  "kernelspec": {
   "display_name": "bangla",
   "language": "python",
   "name": "bangla"
  },
  "language_info": {
   "codemirror_mode": {
    "name": "ipython",
    "version": 3
   },
   "file_extension": ".py",
   "mimetype": "text/x-python",
   "name": "python",
   "nbconvert_exporter": "python",
   "pygments_lexer": "ipython3",
   "version": "3.8.5"
  }
 },
 "nbformat": 4,
 "nbformat_minor": 5
}
