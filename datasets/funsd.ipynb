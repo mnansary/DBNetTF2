{
 "cells": [
  {
   "cell_type": "code",
   "execution_count": null,
   "metadata": {},
   "outputs": [],
   "source": [
    "\n",
    "import json\n",
    "import os\n",
    "from tqdm.notebook import tqdm\n",
    "import shutil\n",
    "root_path = '/backup/RAW/DET/PROCESS_BASE/funsd/'\n",
    "root_label_path = '/backup/RAW/DET/PROCESS_BASE/funsd/dataset/testing_data/annotations/' # @params: training_data, testing_data\n",
    "root_image_path = '/backup/RAW/DET/PROCESS_BASE/funsd/dataset/testing_data/images/' # @params: training_data, testing_data\n",
    "example_dirpath = \"/backup/RAW/DET/PROCESS_BASE/EXAMPLE/\"\n",
    "new_root_path = os.path.join(example_dirpath,\"funsd\")\n",
    "if os.path.exists(new_root_path):\n",
    "    print(\"Directory exist\")\n",
    "else: \n",
    "    os.mkdir(new_root_path)\n",
    "    print(\"Directory created\")\n",
    "    \n",
    "gts_path = os.path.join(new_root_path, 'gts')\n",
    "if os.path.exists(gts_path):\n",
    "    print(\"Directory exist\")\n",
    "else: \n",
    "    os.mkdir(gts_path)\n",
    "    print(\"Directory created\")\n",
    "\n",
    "images_path = os.path.join(new_root_path, 'images')\n",
    "if os.path.exists(images_path):\n",
    "    print(\"Directory exist\")\n",
    "else: \n",
    "    os.mkdir(images_path)\n",
    "    print(\"Directory created\")\n",
    "    \n",
    "    "
   ]
  },
  {
   "cell_type": "code",
   "execution_count": null,
   "metadata": {},
   "outputs": [],
   "source": [
    "\n",
    "\n",
    "for json_file in tqdm(os.listdir(root_label_path)):\n",
    "    with open(os.path.join(root_label_path,json_file)) as f:\n",
    "        data = json.load(f)\n",
    "    \n",
    "    box_text_list = []\n",
    "    for _dict in data['form']:\n",
    "        for word in _dict['words']:\n",
    "            box = word['box']\n",
    "            x1,y1,x2,y2=box\n",
    "            box=[x1,y1,x2,y1,x2,y2,x1,y2]\n",
    "            text = word['text']\n",
    "            if len(text)==0:\n",
    "                text=\"###\"\n",
    "            box_text_list.append(','.join(map(str, box)))\n",
    "            box_text_list.append(',')\n",
    "            box_text_list.append(text)\n",
    "            box_text_list.append('\\n')\n",
    "            \n",
    "    _json_file = json_file.split('.')[0]\n",
    "    img_file_name = _json_file+\".png\"\n",
    "    images_path_file = os.path.join(root_image_path, img_file_name)\n",
    "#     print(images_path_file)\n",
    "\n",
    "    img_file_check = os.path.join(images_path, img_file_name)\n",
    "#     print(img_file_check)\n",
    "\n",
    "    if not os.path.isfile(img_file_check):\n",
    "        shutil.copy2(images_path_file, images_path)\n",
    "        \n",
    "    \n",
    "    text_file = img_file_name+'.txt'\n",
    "    gts_text_file = os.path.join(gts_path, text_file)\n",
    "    \n",
    "    # Program to write to text file using write() function\n",
    "    if not os.path.isfile(gts_text_file):\n",
    "        with  open(gts_text_file, \"w\") as file:\n",
    "            makeitastring = ''.join(map(str, box_text_list))\n",
    "            file.write(makeitastring)\n",
    "            file.close()\n",
    "        #print(\"File Creates!\")\n",
    "    else:\n",
    "        print(\"File Exists!\")\n",
    "    "
   ]
  },
  {
   "cell_type": "code",
   "execution_count": null,
   "metadata": {},
   "outputs": [],
   "source": []
  }
 ],
 "metadata": {
  "interpreter": {
   "hash": "83cb0fe33a0a67f9f877ffb776c4b7cce63e124f7ba47fe6878fb868bcc96314"
  },
  "kernelspec": {
   "display_name": "Python 3",
   "language": "python",
   "name": "python3"
  },
  "language_info": {
   "codemirror_mode": {
    "name": "ipython",
    "version": 3
   },
   "file_extension": ".py",
   "mimetype": "text/x-python",
   "name": "python",
   "nbconvert_exporter": "python",
   "pygments_lexer": "ipython3",
   "version": "3.8.5"
  }
 },
 "nbformat": 4,
 "nbformat_minor": 2
}
