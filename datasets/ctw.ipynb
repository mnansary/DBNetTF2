{
 "cells": [
  {
   "cell_type": "code",
   "execution_count": null,
   "metadata": {},
   "outputs": [],
   "source": [
    "import os\n",
    "from tqdm.notebook import tqdm\n",
    "import shutil\n",
    "import xml.etree.ElementTree as ET\n",
    "\n",
    "root_path = '/backup/RAW/DET/PROCESS_BASE/ctw/'\n",
    "root_label_path = '/backup/RAW/DET/PROCESS_BASE/ctw/train_labels/'\n",
    "root_image_path = '/backup/RAW/DET/PROCESS_BASE/ctw/images/'\n",
    "example_dirpath = \"/backup/RAW/DET/PROCESS_BASE/EXAMPLE/\"\n",
    "\n",
    "new_root_path = os.path.join(example_dirpath,\"ctw\")\n",
    "if os.path.exists(new_root_path):\n",
    "    print(\"Directory exist\")\n",
    "else: \n",
    "    os.mkdir(new_root_path)\n",
    "    print(\"Directory created\")\n",
    "\n",
    "gts_path = os.path.join(new_root_path, 'gts')\n",
    "if os.path.exists(gts_path):\n",
    "    print(\"Directory exist\")\n",
    "else: \n",
    "    os.mkdir(gts_path)\n",
    "    print(\"Directory created\")\n",
    "\n",
    "images_path = os.path.join(new_root_path, 'images')\n",
    "if os.path.exists(images_path):\n",
    "    print(\"Directory exist\")\n",
    "else: \n",
    "    os.mkdir(images_path)\n",
    "    print(\"Directory created\")"
   ]
  },
  {
   "cell_type": "code",
   "execution_count": null,
   "metadata": {},
   "outputs": [],
   "source": [
    "for xml_file in tqdm(os.listdir(root_label_path)):\n",
    "#     print(xml_file)\n",
    "    tree = ET.parse(root_label_path+xml_file)\n",
    "    root = tree.getroot()\n",
    "    \n",
    "    file = root[0].attrib\n",
    "    img_file_name = file['file']\n",
    "    \n",
    "    label_segs_lst = []\n",
    "    for box in root:\n",
    "        for rect in box:\n",
    "#             print(\"label: \", rect[0].text)\n",
    "#             print(\"segs: \", rect[1].text)\n",
    "\n",
    "            label_segs_lst.append(rect[1].text)\n",
    "            label_segs_lst.append(',####')\n",
    "            label_segs_lst.append(rect[0].text)\n",
    "            label_segs_lst.append('\\n')\n",
    "            \n",
    "    images_path_file = os.path.join(root_image_path, img_file_name)\n",
    "#     images_path_file\n",
    "\n",
    "    img_file_check = os.path.join(images_path, img_file_name)\n",
    "#     img_file_check\n",
    "\n",
    "    if not os.path.isfile(img_file_check):\n",
    "        shutil.copy2(images_path_file, images_path)\n",
    "        \n",
    "    text_file = img_file_name+'.txt'\n",
    "    gts_text_file = os.path.join(gts_path, text_file)\n",
    "    \n",
    "    # Program to write to text file using write() function\n",
    "    if not os.path.isfile(gts_text_file):\n",
    "        with  open(gts_text_file, \"w\") as file:\n",
    "            makeitastring = ''.join(map(str, label_segs_lst))\n",
    "            file.write(makeitastring)\n",
    "            file.close()\n",
    "    "
   ]
  },
  {
   "cell_type": "code",
   "execution_count": null,
   "metadata": {},
   "outputs": [],
   "source": []
  }
 ],
 "metadata": {
  "interpreter": {
   "hash": "83cb0fe33a0a67f9f877ffb776c4b7cce63e124f7ba47fe6878fb868bcc96314"
  },
  "kernelspec": {
   "display_name": "Python 3",
   "language": "python",
   "name": "python3"
  },
  "language_info": {
   "codemirror_mode": {
    "name": "ipython",
    "version": 3
   },
   "file_extension": ".py",
   "mimetype": "text/x-python",
   "name": "python",
   "nbconvert_exporter": "python",
   "pygments_lexer": "ipython3",
   "version": "3.8.5"
  }
 },
 "nbformat": 4,
 "nbformat_minor": 2
}
