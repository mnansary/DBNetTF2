{
 "cells": [
  {
   "cell_type": "markdown",
   "id": "8111cf4f",
   "metadata": {},
   "source": [
    "# Store Dataset"
   ]
  },
  {
   "cell_type": "code",
   "execution_count": 1,
   "id": "95d98baa",
   "metadata": {},
   "outputs": [],
   "source": [
    "import cv2\n",
    "import os\n",
    "from glob import glob\n",
    "from tqdm.auto import tqdm\n",
    "import shutil\n",
    "import matplotlib.pyplot as plt\n",
    "import numpy as np\n",
    "import math\n",
    "import os.path as osp\n",
    "import pyclipper\n",
    "from shapely.geometry import Polygon\n",
    "#mean = [103.939, 116.779, 123.68]\n",
    "# thresh_min=0.3\n",
    "# thresh_max=0.7\n",
    "#-----------------------------------\n",
    "# thresh_map = thresh_map * (thresh_max - thresh_min) + thresh_min\n",
    "# image = img.astype(np.float32)\n",
    "# image[..., 0] -= mean[0]\n",
    "# image[..., 1] -= mean[1]\n",
    "# image[..., 2] -= mean[2]\n",
    "#-----------------------------------\n",
    "min_text_size=8\n",
    "shrink_ratio=0.4\n",
    "IMAGE_SIZE=512\n",
    "data_dir=os.path.join(os.getcwd(),\"data\")\n",
    "img_dir=os.path.join(data_dir,\"image\")\n",
    "gt_dir=os.path.join(data_dir,\"gt\")\n",
    "mask_dir=os.path.join(data_dir,\"mask\")\n",
    "thresh_mask_dir=os.path.join(data_dir,\"thresh_mask\")\n",
    "thresh_map_dir=os.path.join(data_dir,\"thresh_map\")\n",
    "\n",
    "ds_idens=os.listdir(\"datasets\")\n",
    "fiden=0"
   ]
  },
  {
   "cell_type": "code",
   "execution_count": 2,
   "id": "181f5c00",
   "metadata": {},
   "outputs": [],
   "source": [
    "\n",
    "\n",
    "def draw_thresh_map(polygon, canvas, mask, shrink_ratio=0.4):\n",
    "    assert polygon.ndim == 2\n",
    "    assert polygon.shape[1] == 2\n",
    "\n",
    "    polygon_shape = Polygon(polygon)\n",
    "    distance = polygon_shape.area * (1 - np.power(shrink_ratio, 2)) / polygon_shape.length\n",
    "    subject = [tuple(l) for l in polygon]\n",
    "    padding = pyclipper.PyclipperOffset()\n",
    "    padding.AddPath(subject, pyclipper.JT_ROUND, pyclipper.ET_CLOSEDPOLYGON)\n",
    "    padded_polygon = np.array(padding.Execute(distance)[0])\n",
    "    cv2.fillPoly(mask, [padded_polygon.astype(np.int32)], 1.0)\n",
    "\n",
    "    xmin = padded_polygon[:, 0].min()\n",
    "    xmax = padded_polygon[:, 0].max()\n",
    "    ymin = padded_polygon[:, 1].min()\n",
    "    ymax = padded_polygon[:, 1].max()\n",
    "    width = xmax - xmin + 1\n",
    "    height = ymax - ymin + 1\n",
    "\n",
    "    polygon[:, 0] = polygon[:, 0] - xmin\n",
    "    polygon[:, 1] = polygon[:, 1] - ymin\n",
    "\n",
    "    xs = np.broadcast_to(np.linspace(0, width - 1, num=width).reshape(1, width), (height, width))\n",
    "    ys = np.broadcast_to(np.linspace(0, height - 1, num=height).reshape(height, 1), (height, width))\n",
    "\n",
    "    distance_map = np.zeros((polygon.shape[0], height, width), dtype=np.float32)\n",
    "    for i in range(polygon.shape[0]):\n",
    "        j = (i + 1) % polygon.shape[0]\n",
    "        absolute_distance = compute_distance(xs, ys, polygon[i], polygon[j])\n",
    "        distance_map[i] = np.clip(absolute_distance / distance, 0, 1)\n",
    "    distance_map = np.min(distance_map, axis=0)\n",
    "\n",
    "    xmin_valid = min(max(0, xmin), canvas.shape[1] - 1)\n",
    "    xmax_valid = min(max(0, xmax), canvas.shape[1] - 1)\n",
    "    ymin_valid = min(max(0, ymin), canvas.shape[0] - 1)\n",
    "    ymax_valid = min(max(0, ymax), canvas.shape[0] - 1)\n",
    "    canvas[ymin_valid:ymax_valid + 1, xmin_valid:xmax_valid + 1] = np.fmax(\n",
    "        1 - distance_map[\n",
    "            ymin_valid - ymin:ymax_valid - ymin+1,\n",
    "            xmin_valid - xmin:xmax_valid - xmin+1],\n",
    "        canvas[ymin_valid:ymax_valid + 1, xmin_valid:xmax_valid + 1])\n",
    "    \n",
    "def compute_distance(xs, ys, point_1, point_2):\n",
    "    square_distance_1 = np.square(xs - point_1[0]) + np.square(ys - point_1[1])\n",
    "    square_distance_2 = np.square(xs - point_2[0]) + np.square(ys - point_2[1])\n",
    "    square_distance = np.square(point_1[0] - point_2[0]) + np.square(point_1[1] - point_2[1])\n",
    "\n",
    "    cosin = (square_distance - square_distance_1 - square_distance_2) / \\\n",
    "            (2 * np.sqrt(square_distance_1 * square_distance_2))\n",
    "    square_sin = 1 - np.square(cosin)\n",
    "    square_sin = np.nan_to_num(square_sin)\n",
    "    result = np.sqrt(square_distance_1 * square_distance_2 * square_sin / square_distance)\n",
    "\n",
    "    result[cosin < 0] = np.sqrt(np.fmin(square_distance_1, square_distance_2))[cosin < 0]\n",
    "    return result\n",
    "\n",
    "\n",
    "def get_anns(gt_path,ds_iden):\n",
    "    lines = []\n",
    "    # ann\n",
    "    reader = open(gt_path, 'r').readlines()\n",
    "    for line in reader:\n",
    "        item = {}\n",
    "        parts = line.strip().split(',')\n",
    "        label = parts[-1]\n",
    "        # text\n",
    "        if label == '1':\n",
    "            label = '###'\n",
    "        line = [i.strip('\\ufeff').strip('\\xef\\xbb\\xbf') for i in parts]\n",
    "\n",
    "        if 'icdar' in ds_iden:\n",
    "            poly = np.array(list(map(float, line[:8]))).reshape((-1, 2)).tolist()\n",
    "        else:\n",
    "            num_points = math.floor((len(line) - 1) / 2) * 2\n",
    "            poly = np.array(list(map(float, line[:num_points]))).reshape((-1, 2)).tolist()\n",
    "        if len(poly) < 3:\n",
    "            continue\n",
    "        item['poly'] = poly\n",
    "        item['text'] = label\n",
    "        lines.append(item)\n",
    "    return lines\n",
    "\n",
    "def resize(size, image, anns):\n",
    "    h, w, c = image.shape\n",
    "    scale_w = size / w\n",
    "    scale_h = size / h\n",
    "    scale = min(scale_w, scale_h)\n",
    "    h = int(h * scale)\n",
    "    w = int(w * scale)\n",
    "    padimg = np.zeros((size, size, c), image.dtype)\n",
    "    padimg[:h, :w] = cv2.resize(image, (w, h))\n",
    "    new_anns = []\n",
    "    for ann in anns:\n",
    "        poly = np.array(ann['poly']).astype(np.float64)\n",
    "        poly *= scale\n",
    "        new_ann = {'poly': poly.tolist(), 'text': ann['text']}\n",
    "        new_anns.append(new_ann)\n",
    "    return padimg, new_anns\n",
    "\n",
    "def process_single_data(img_path,ds_iden):\n",
    "    # img\n",
    "    image=cv2.imread(img_path)\n",
    "    # masks\n",
    "    dim=(IMAGE_SIZE,IMAGE_SIZE)\n",
    "    gt = np.zeros(dim, dtype=np.float32)\n",
    "    mask = np.ones(dim, dtype=np.float32)\n",
    "    thresh_map = np.zeros(dim, dtype=np.float32)\n",
    "    thresh_mask = np.zeros(dim, dtype=np.float32)\n",
    "    # gt_path\n",
    "    if ds_iden!=\"icdar2\":\n",
    "        gt_path=img_path.replace(\"images\",\"gts\")+\".txt\"\n",
    "    else:\n",
    "        gt_path=img_path.replace(\"images\",\"gts\").replace(\"img\",\"gt_img\")\n",
    "        gt_path=gt_path.split(\".\")[0]+\".txt\"\n",
    "    anns=get_anns(gt_path,ds_iden)\n",
    "    # resize\n",
    "    image, anns = resize(IMAGE_SIZE, image, anns)\n",
    "    # process annotations\n",
    "    for ann in anns:\n",
    "        poly = np.array(ann['poly'])\n",
    "        height = max(poly[:, 1]) - min(poly[:, 1])\n",
    "        width = max(poly[:, 0]) - min(poly[:, 0])\n",
    "        polygon = Polygon(poly)\n",
    "        # generate gt and mask\n",
    "        if polygon.area < 1 or min(height, width) < min_text_size or ann['text'] == '###':\n",
    "            cv2.fillPoly(mask, poly.astype(np.int32)[np.newaxis, :, :], 0)\n",
    "            continue\n",
    "        else:\n",
    "            distance = polygon.area * (1 - np.power(shrink_ratio, 2)) / polygon.length\n",
    "            subject = [tuple(l) for l in ann['poly']]\n",
    "            padding = pyclipper.PyclipperOffset()\n",
    "            padding.AddPath(subject, pyclipper.JT_ROUND, pyclipper.ET_CLOSEDPOLYGON)\n",
    "            shrinked = padding.Execute(-distance)\n",
    "            if len(shrinked) == 0:\n",
    "                cv2.fillPoly(mask, poly.astype(np.int32)[np.newaxis, :, :], 0)\n",
    "                continue\n",
    "            else:\n",
    "                shrinked = np.array(shrinked[0]).reshape(-1, 2)\n",
    "                if shrinked.shape[0] > 2 and Polygon(shrinked).is_valid:\n",
    "                    cv2.fillPoly(gt, [shrinked.astype(np.int32)], 1)\n",
    "                else:\n",
    "                    cv2.fillPoly(mask, poly.astype(np.int32)[np.newaxis, :, :], 0)\n",
    "                    continue\n",
    "        # generate thresh map and thresh mask\n",
    "        draw_thresh_map(poly, thresh_map, thresh_mask, shrink_ratio=shrink_ratio)\n",
    "    thresh_map*=255\n",
    "    #thresh_map=thresh_map.astype(\"uint8\")\n",
    "    gt*=255\n",
    "    mask*=255\n",
    "    thresh_mask*=255\n",
    "    return image,gt,mask,thresh_map,thresh_mask"
   ]
  },
  {
   "cell_type": "code",
   "execution_count": 3,
   "id": "4a7ca47c",
   "metadata": {},
   "outputs": [],
   "source": [
    "\n",
    "\n",
    "def process_dataset(ds_path,ds_iden):\n",
    "    global fiden\n",
    "    dataset_path=os.path.join(ds_path,ds_iden)\n",
    "    img_paths=[img_path for img_path in tqdm(glob(os.path.join(dataset_path,\"images\",\"*.*\")))]\n",
    "    # extract anns \n",
    "    for img_path in tqdm(img_paths):\n",
    "        try:\n",
    "            img,gt,mask,thresh_map,thresh_mask=process_single_data(img_path,ds_iden)\n",
    "            # save\n",
    "            cv2.imwrite(os.path.join(img_dir,f\"{fiden}.png\"),img)\n",
    "            cv2.imwrite(os.path.join(gt_dir,f\"{fiden}.png\"),gt)\n",
    "            cv2.imwrite(os.path.join(mask_dir,f\"{fiden}.png\"),mask)\n",
    "            cv2.imwrite(os.path.join(thresh_map_dir,f\"{fiden}.png\"),thresh_map)\n",
    "            cv2.imwrite(os.path.join(thresh_mask_dir,f\"{fiden}.png\"),thresh_mask)\n",
    "            fiden+=1\n",
    "        except Exception as e:\n",
    "            print(e)"
   ]
  },
  {
   "cell_type": "code",
   "execution_count": 4,
   "id": "a509d718",
   "metadata": {},
   "outputs": [
    {
     "data": {
      "text/plain": [
       "['td1', 'icdar1', 'totaltext', 'td2', 'icdar2', 'td3']"
      ]
     },
     "execution_count": 4,
     "metadata": {},
     "output_type": "execute_result"
    }
   ],
   "source": [
    "ds_idens"
   ]
  },
  {
   "cell_type": "code",
   "execution_count": null,
   "id": "5fde430d",
   "metadata": {},
   "outputs": [
    {
     "name": "stdout",
     "output_type": "stream",
     "text": [
      "td1\n"
     ]
    },
    {
     "data": {
      "application/vnd.jupyter.widget-view+json": {
       "model_id": "8d87364cc9524219aedb580410bdfa39",
       "version_major": 2,
       "version_minor": 0
      },
      "text/plain": [
       "  0%|          | 0/400 [00:00<?, ?it/s]"
      ]
     },
     "metadata": {},
     "output_type": "display_data"
    },
    {
     "data": {
      "application/vnd.jupyter.widget-view+json": {
       "model_id": "b1689986b5cb446993559f41fd7b7af9",
       "version_major": 2,
       "version_minor": 0
      },
      "text/plain": [
       "  0%|          | 0/400 [00:00<?, ?it/s]"
      ]
     },
     "metadata": {},
     "output_type": "display_data"
    },
    {
     "name": "stderr",
     "output_type": "stream",
     "text": [
      "<ipython-input-2-372fac683a57>:52: RuntimeWarning: invalid value encountered in sqrt\n",
      "  result = np.sqrt(square_distance_1 * square_distance_2 * square_sin / square_distance)\n",
      "<ipython-input-2-372fac683a57>:48: RuntimeWarning: invalid value encountered in true_divide\n",
      "  cosin = (square_distance - square_distance_1 - square_distance_2) / \\\n"
     ]
    },
    {
     "name": "stdout",
     "output_type": "stream",
     "text": [
      "icdar1\n"
     ]
    },
    {
     "data": {
      "application/vnd.jupyter.widget-view+json": {
       "model_id": "8d2d074703b74074aa6f7069cd24b356",
       "version_major": 2,
       "version_minor": 0
      },
      "text/plain": [
       "  0%|          | 0/1000 [00:00<?, ?it/s]"
      ]
     },
     "metadata": {},
     "output_type": "display_data"
    },
    {
     "data": {
      "application/vnd.jupyter.widget-view+json": {
       "model_id": "1c558aa443be4dd9b2d278d552dda4b6",
       "version_major": 2,
       "version_minor": 0
      },
      "text/plain": [
       "  0%|          | 0/1000 [00:00<?, ?it/s]"
      ]
     },
     "metadata": {},
     "output_type": "display_data"
    },
    {
     "name": "stdout",
     "output_type": "stream",
     "text": [
      "totaltext\n"
     ]
    },
    {
     "data": {
      "application/vnd.jupyter.widget-view+json": {
       "model_id": "2e0f1055457346a7bea42282cf07dd85",
       "version_major": 2,
       "version_minor": 0
      },
      "text/plain": [
       "  0%|          | 0/1555 [00:00<?, ?it/s]"
      ]
     },
     "metadata": {},
     "output_type": "display_data"
    },
    {
     "data": {
      "application/vnd.jupyter.widget-view+json": {
       "model_id": "cc31981b72fe4a0fb3dc8f674ecdf12e",
       "version_major": 2,
       "version_minor": 0
      },
      "text/plain": [
       "  0%|          | 0/1555 [00:00<?, ?it/s]"
      ]
     },
     "metadata": {},
     "output_type": "display_data"
    },
    {
     "name": "stderr",
     "output_type": "stream",
     "text": [
      "<ipython-input-2-372fac683a57>:52: RuntimeWarning: invalid value encountered in true_divide\n",
      "  result = np.sqrt(square_distance_1 * square_distance_2 * square_sin / square_distance)\n"
     ]
    },
    {
     "name": "stdout",
     "output_type": "stream",
     "text": [
      "td2\n"
     ]
    },
    {
     "data": {
      "application/vnd.jupyter.widget-view+json": {
       "model_id": "e97e6b8ed165435787f9d46da14838be",
       "version_major": 2,
       "version_minor": 0
      },
      "text/plain": [
       "  0%|          | 0/300 [00:00<?, ?it/s]"
      ]
     },
     "metadata": {},
     "output_type": "display_data"
    },
    {
     "data": {
      "application/vnd.jupyter.widget-view+json": {
       "model_id": "b78784b3208b4c5f895612fcdfe3fc71",
       "version_major": 2,
       "version_minor": 0
      },
      "text/plain": [
       "  0%|          | 0/300 [00:00<?, ?it/s]"
      ]
     },
     "metadata": {},
     "output_type": "display_data"
    }
   ],
   "source": [
    "for ds_iden in ds_idens:\n",
    "    print(ds_iden)\n",
    "    process_dataset(\"datasets/\",ds_iden)"
   ]
  },
  {
   "cell_type": "code",
   "execution_count": null,
   "id": "83a38400",
   "metadata": {},
   "outputs": [],
   "source": [
    "# ds_iden=ds_idens[0]\n",
    "# dataset_path=os.path.join(\"datasets/\",ds_iden)\n",
    "# img_paths=[img_path for img_path in tqdm(glob(os.path.join(dataset_path,\"images\",\"*.*\")))]\n",
    "# img_path=img_paths[0]\n",
    "# img_path\n",
    "# plt.imshow(img)\n",
    "# plt.show()\n",
    "# plt.imshow(gt)\n",
    "# plt.show()\n",
    "# plt.imshow(mask)\n",
    "# plt.show()\n",
    "# plt.imshow(thresh_map)\n",
    "# plt.show()\n",
    "# plt.imshow(thresh_mask)\n",
    "# plt.show()\n",
    "# np.unique(thresh_map)"
   ]
  },
  {
   "cell_type": "code",
   "execution_count": null,
   "id": "21648d3b",
   "metadata": {},
   "outputs": [],
   "source": []
  },
  {
   "cell_type": "code",
   "execution_count": null,
   "id": "80b16e4f",
   "metadata": {},
   "outputs": [],
   "source": []
  }
 ],
 "metadata": {
  "kernelspec": {
   "display_name": "bangla",
   "language": "python",
   "name": "bangla"
  },
  "language_info": {
   "codemirror_mode": {
    "name": "ipython",
    "version": 3
   },
   "file_extension": ".py",
   "mimetype": "text/x-python",
   "name": "python",
   "nbconvert_exporter": "python",
   "pygments_lexer": "ipython3",
   "version": "3.8.5"
  }
 },
 "nbformat": 4,
 "nbformat_minor": 5
}
